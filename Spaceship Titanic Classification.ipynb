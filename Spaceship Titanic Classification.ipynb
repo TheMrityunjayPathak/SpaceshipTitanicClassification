{
 "cells": [
  {
   "cell_type": "markdown",
   "id": "c8ca1a41",
   "metadata": {},
   "source": [
    "<h1 style=\"color:blue\" align=center>Spaceship Titanic Classification🚀</h1>"
   ]
  },
  {
   "cell_type": "markdown",
   "id": "d4abd75b",
   "metadata": {},
   "source": [
    "- **Importing Important Libraries**"
   ]
  },
  {
   "cell_type": "code",
   "execution_count": 91,
   "id": "582699b9",
   "metadata": {},
   "outputs": [],
   "source": [
    "import numpy as np\n",
    "import pandas as pd\n",
    "import matplotlib.pyplot as plt\n",
    "import seaborn as sns"
   ]
  },
  {
   "cell_type": "markdown",
   "id": "c7eb836f",
   "metadata": {},
   "source": [
    "- **Reading CSV File**"
   ]
  },
  {
   "cell_type": "code",
   "execution_count": 92,
   "id": "ecfb0159",
   "metadata": {},
   "outputs": [
    {
     "data": {
      "text/html": [
       "<div>\n",
       "<style scoped>\n",
       "    .dataframe tbody tr th:only-of-type {\n",
       "        vertical-align: middle;\n",
       "    }\n",
       "\n",
       "    .dataframe tbody tr th {\n",
       "        vertical-align: top;\n",
       "    }\n",
       "\n",
       "    .dataframe thead th {\n",
       "        text-align: right;\n",
       "    }\n",
       "</style>\n",
       "<table border=\"1\" class=\"dataframe\">\n",
       "  <thead>\n",
       "    <tr style=\"text-align: right;\">\n",
       "      <th></th>\n",
       "      <th>PassengerId</th>\n",
       "      <th>HomePlanet</th>\n",
       "      <th>CryoSleep</th>\n",
       "      <th>Cabin</th>\n",
       "      <th>Destination</th>\n",
       "      <th>Age</th>\n",
       "      <th>VIP</th>\n",
       "      <th>RoomService</th>\n",
       "      <th>FoodCourt</th>\n",
       "      <th>ShoppingMall</th>\n",
       "      <th>Spa</th>\n",
       "      <th>VRDeck</th>\n",
       "      <th>Name</th>\n",
       "      <th>Transported</th>\n",
       "    </tr>\n",
       "  </thead>\n",
       "  <tbody>\n",
       "    <tr>\n",
       "      <th>0</th>\n",
       "      <td>0001_01</td>\n",
       "      <td>Europa</td>\n",
       "      <td>False</td>\n",
       "      <td>B/0/P</td>\n",
       "      <td>TRAPPIST-1e</td>\n",
       "      <td>39.0</td>\n",
       "      <td>False</td>\n",
       "      <td>0.0</td>\n",
       "      <td>0.0</td>\n",
       "      <td>0.0</td>\n",
       "      <td>0.0</td>\n",
       "      <td>0.0</td>\n",
       "      <td>Maham Ofracculy</td>\n",
       "      <td>False</td>\n",
       "    </tr>\n",
       "    <tr>\n",
       "      <th>1</th>\n",
       "      <td>0002_01</td>\n",
       "      <td>Earth</td>\n",
       "      <td>False</td>\n",
       "      <td>F/0/S</td>\n",
       "      <td>TRAPPIST-1e</td>\n",
       "      <td>24.0</td>\n",
       "      <td>False</td>\n",
       "      <td>109.0</td>\n",
       "      <td>9.0</td>\n",
       "      <td>25.0</td>\n",
       "      <td>549.0</td>\n",
       "      <td>44.0</td>\n",
       "      <td>Juanna Vines</td>\n",
       "      <td>True</td>\n",
       "    </tr>\n",
       "    <tr>\n",
       "      <th>2</th>\n",
       "      <td>0003_01</td>\n",
       "      <td>Europa</td>\n",
       "      <td>False</td>\n",
       "      <td>A/0/S</td>\n",
       "      <td>TRAPPIST-1e</td>\n",
       "      <td>58.0</td>\n",
       "      <td>True</td>\n",
       "      <td>43.0</td>\n",
       "      <td>3576.0</td>\n",
       "      <td>0.0</td>\n",
       "      <td>6715.0</td>\n",
       "      <td>49.0</td>\n",
       "      <td>Altark Susent</td>\n",
       "      <td>False</td>\n",
       "    </tr>\n",
       "    <tr>\n",
       "      <th>3</th>\n",
       "      <td>0003_02</td>\n",
       "      <td>Europa</td>\n",
       "      <td>False</td>\n",
       "      <td>A/0/S</td>\n",
       "      <td>TRAPPIST-1e</td>\n",
       "      <td>33.0</td>\n",
       "      <td>False</td>\n",
       "      <td>0.0</td>\n",
       "      <td>1283.0</td>\n",
       "      <td>371.0</td>\n",
       "      <td>3329.0</td>\n",
       "      <td>193.0</td>\n",
       "      <td>Solam Susent</td>\n",
       "      <td>False</td>\n",
       "    </tr>\n",
       "    <tr>\n",
       "      <th>4</th>\n",
       "      <td>0004_01</td>\n",
       "      <td>Earth</td>\n",
       "      <td>False</td>\n",
       "      <td>F/1/S</td>\n",
       "      <td>TRAPPIST-1e</td>\n",
       "      <td>16.0</td>\n",
       "      <td>False</td>\n",
       "      <td>303.0</td>\n",
       "      <td>70.0</td>\n",
       "      <td>151.0</td>\n",
       "      <td>565.0</td>\n",
       "      <td>2.0</td>\n",
       "      <td>Willy Santantines</td>\n",
       "      <td>True</td>\n",
       "    </tr>\n",
       "  </tbody>\n",
       "</table>\n",
       "</div>"
      ],
      "text/plain": [
       "  PassengerId HomePlanet CryoSleep  Cabin  Destination   Age    VIP   \n",
       "0     0001_01     Europa     False  B/0/P  TRAPPIST-1e  39.0  False  \\\n",
       "1     0002_01      Earth     False  F/0/S  TRAPPIST-1e  24.0  False   \n",
       "2     0003_01     Europa     False  A/0/S  TRAPPIST-1e  58.0   True   \n",
       "3     0003_02     Europa     False  A/0/S  TRAPPIST-1e  33.0  False   \n",
       "4     0004_01      Earth     False  F/1/S  TRAPPIST-1e  16.0  False   \n",
       "\n",
       "   RoomService  FoodCourt  ShoppingMall     Spa  VRDeck               Name   \n",
       "0          0.0        0.0           0.0     0.0     0.0    Maham Ofracculy  \\\n",
       "1        109.0        9.0          25.0   549.0    44.0       Juanna Vines   \n",
       "2         43.0     3576.0           0.0  6715.0    49.0      Altark Susent   \n",
       "3          0.0     1283.0         371.0  3329.0   193.0       Solam Susent   \n",
       "4        303.0       70.0         151.0   565.0     2.0  Willy Santantines   \n",
       "\n",
       "   Transported  \n",
       "0        False  \n",
       "1         True  \n",
       "2        False  \n",
       "3        False  \n",
       "4         True  "
      ]
     },
     "execution_count": 92,
     "metadata": {},
     "output_type": "execute_result"
    }
   ],
   "source": [
    "df = pd.read_csv(\"spaceship.csv\")\n",
    "df.head()"
   ]
  },
  {
   "cell_type": "markdown",
   "id": "863b42ba",
   "metadata": {},
   "source": [
    "- **Shape of the Dataset**"
   ]
  },
  {
   "cell_type": "code",
   "execution_count": 93,
   "id": "138cb6f7",
   "metadata": {},
   "outputs": [
    {
     "data": {
      "text/plain": [
       "(8693, 14)"
      ]
     },
     "execution_count": 93,
     "metadata": {},
     "output_type": "execute_result"
    }
   ],
   "source": [
    "df.shape"
   ]
  },
  {
   "cell_type": "markdown",
   "id": "bbb44fab",
   "metadata": {},
   "source": [
    "- **Info about the Dataset**"
   ]
  },
  {
   "cell_type": "code",
   "execution_count": 94,
   "id": "548c366e",
   "metadata": {},
   "outputs": [
    {
     "name": "stdout",
     "output_type": "stream",
     "text": [
      "<class 'pandas.core.frame.DataFrame'>\n",
      "RangeIndex: 8693 entries, 0 to 8692\n",
      "Data columns (total 14 columns):\n",
      " #   Column        Non-Null Count  Dtype  \n",
      "---  ------        --------------  -----  \n",
      " 0   PassengerId   8693 non-null   object \n",
      " 1   HomePlanet    8492 non-null   object \n",
      " 2   CryoSleep     8476 non-null   object \n",
      " 3   Cabin         8494 non-null   object \n",
      " 4   Destination   8511 non-null   object \n",
      " 5   Age           8514 non-null   float64\n",
      " 6   VIP           8490 non-null   object \n",
      " 7   RoomService   8512 non-null   float64\n",
      " 8   FoodCourt     8510 non-null   float64\n",
      " 9   ShoppingMall  8485 non-null   float64\n",
      " 10  Spa           8510 non-null   float64\n",
      " 11  VRDeck        8505 non-null   float64\n",
      " 12  Name          8493 non-null   object \n",
      " 13  Transported   8693 non-null   bool   \n",
      "dtypes: bool(1), float64(6), object(7)\n",
      "memory usage: 891.5+ KB\n"
     ]
    }
   ],
   "source": [
    "df.info()"
   ]
  },
  {
   "cell_type": "markdown",
   "id": "40d6fcac",
   "metadata": {},
   "source": [
    "<h1 style=\"color:blue\" align=center>Data Cleaning</h1>"
   ]
  },
  {
   "cell_type": "markdown",
   "id": "b9a1fae7",
   "metadata": {},
   "source": [
    "- **Creating Backup of Dataset**"
   ]
  },
  {
   "cell_type": "code",
   "execution_count": 95,
   "id": "0583b67f",
   "metadata": {},
   "outputs": [],
   "source": [
    "backup = df.copy()"
   ]
  },
  {
   "cell_type": "markdown",
   "id": "269b1b06",
   "metadata": {},
   "source": [
    "- **Null Values in the Dataset**"
   ]
  },
  {
   "cell_type": "code",
   "execution_count": 96,
   "id": "00858276",
   "metadata": {},
   "outputs": [
    {
     "data": {
      "text/plain": [
       "PassengerId       0\n",
       "HomePlanet      201\n",
       "CryoSleep       217\n",
       "Cabin           199\n",
       "Destination     182\n",
       "Age             179\n",
       "VIP             203\n",
       "RoomService     181\n",
       "FoodCourt       183\n",
       "ShoppingMall    208\n",
       "Spa             183\n",
       "VRDeck          188\n",
       "Name            200\n",
       "Transported       0\n",
       "dtype: int64"
      ]
     },
     "execution_count": 96,
     "metadata": {},
     "output_type": "execute_result"
    }
   ],
   "source": [
    "df.isna().sum()"
   ]
  },
  {
   "cell_type": "markdown",
   "id": "12aa4c9b",
   "metadata": {},
   "source": [
    "- **Dropping Unnecessary Columns from Dataset**"
   ]
  },
  {
   "cell_type": "code",
   "execution_count": 97,
   "id": "56b3a999",
   "metadata": {},
   "outputs": [],
   "source": [
    "df.drop([\"Name\",\"Cabin\",\"PassengerId\"],axis=\"columns\",inplace=True)"
   ]
  },
  {
   "cell_type": "markdown",
   "id": "4ef2c0a0",
   "metadata": {},
   "source": [
    "<h3 style=\"color:black\" align=center>Cleaning Age Column</h3>"
   ]
  },
  {
   "cell_type": "markdown",
   "id": "beac0ae4",
   "metadata": {},
   "source": [
    "- **Examine Age Column Distribution**"
   ]
  },
  {
   "cell_type": "code",
   "execution_count": 98,
   "id": "2deb2a84",
   "metadata": {},
   "outputs": [
    {
     "data": {
      "text/plain": [
       "<seaborn.axisgrid.FacetGrid at 0x1e6ff927d90>"
      ]
     },
     "execution_count": 98,
     "metadata": {},
     "output_type": "execute_result"
    },
    {
     "data": {
      "image/png": "[encoded data removed]",
      "text/plain": [
       "<Figure size 500x500 with 1 Axes>"
      ]
     },
     "metadata": {},
     "output_type": "display_data"
    }
   ],
   "source": [
    "sns.displot(df[\"Age\"])"
   ]
  },
  {
   "cell_type": "markdown",
   "id": "1f234afb",
   "metadata": {},
   "source": [
    "- **Median of Age Column**"
   ]
  },
  {
   "cell_type": "code",
   "execution_count": 99,
   "id": "fc24bb40",
   "metadata": {},
   "outputs": [
    {
     "data": {
      "text/plain": [
       "27.0"
      ]
     },
     "execution_count": 99,
     "metadata": {},
     "output_type": "execute_result"
    }
   ],
   "source": [
    "df[\"Age\"].median()"
   ]
  },
  {
   "cell_type": "markdown",
   "id": "f76159a7",
   "metadata": {},
   "source": [
    "- **Filling NaN Values in Age Column with Median Age**"
   ]
  },
  {
   "cell_type": "code",
   "execution_count": 100,
   "id": "42347aaa",
   "metadata": {},
   "outputs": [],
   "source": [
    "df[\"Age\"] = df[\"Age\"].fillna(df[\"Age\"].median())"
   ]
  },
  {
   "cell_type": "markdown",
   "id": "258d9956",
   "metadata": {},
   "source": [
    "- **Verifying that NaN Values are Removed**"
   ]
  },
  {
   "cell_type": "code",
   "execution_count": 101,
   "id": "7950c1cd",
   "metadata": {},
   "outputs": [
    {
     "data": {
      "text/plain": [
       "0"
      ]
     },
     "execution_count": 101,
     "metadata": {},
     "output_type": "execute_result"
    }
   ],
   "source": [
    "df[\"Age\"].isna().sum()"
   ]
  },
  {
   "cell_type": "markdown",
   "id": "1c1cc1f1",
   "metadata": {},
   "source": [
    "<h3 style=\"color:black\" align=center>Cleaning VIP Column</h3>"
   ]
  },
  {
   "cell_type": "markdown",
   "id": "504c5f41",
   "metadata": {},
   "source": [
    "- **Counting Maximum Occuring Variable and storing it into max_string_vip Variable**"
   ]
  },
  {
   "cell_type": "code",
   "execution_count": 102,
   "id": "7498f589",
   "metadata": {},
   "outputs": [],
   "source": [
    "string_counts_vip = df[\"VIP\"].value_counts()\n",
    "\n",
    "max_string_vip = string_counts_vip.idxmax()"
   ]
  },
  {
   "cell_type": "markdown",
   "id": "c4e6d319",
   "metadata": {},
   "source": [
    "- **Filling NaN Values in VIP Column with max_string_vip Value**"
   ]
  },
  {
   "cell_type": "code",
   "execution_count": 103,
   "id": "cbe3902c",
   "metadata": {},
   "outputs": [],
   "source": [
    "df[\"VIP\"].fillna(max_string_vip, inplace=True)"
   ]
  },
  {
   "cell_type": "markdown",
   "id": "875d8bb2",
   "metadata": {},
   "source": [
    "- **Verifying that NaN Values are Removed**"
   ]
  },
  {
   "cell_type": "code",
   "execution_count": 104,
   "id": "53af87ad",
   "metadata": {},
   "outputs": [
    {
     "data": {
      "text/plain": [
       "0"
      ]
     },
     "execution_count": 104,
     "metadata": {},
     "output_type": "execute_result"
    }
   ],
   "source": [
    "df[\"VIP\"].isna().sum()"
   ]
  },
  {
   "cell_type": "markdown",
   "id": "4fed95ff",
   "metadata": {},
   "source": [
    "- **Converting VIP into int DataType**"
   ]
  },
  {
   "cell_type": "code",
   "execution_count": 105,
   "id": "f0384d41",
   "metadata": {},
   "outputs": [],
   "source": [
    "df[\"VIP\"] = df[\"VIP\"].astype(int)"
   ]
  },
  {
   "cell_type": "markdown",
   "id": "fd0b9469",
   "metadata": {},
   "source": [
    "<h3 style=\"color:black\" align=center>Cleaning Destination Column</h3>"
   ]
  },
  {
   "cell_type": "markdown",
   "id": "34018c9a",
   "metadata": {},
   "source": [
    "- **Counting Maximum Occuring Variable and storing it into max_string_dest Variable**"
   ]
  },
  {
   "cell_type": "code",
   "execution_count": 106,
   "id": "6b632880",
   "metadata": {},
   "outputs": [],
   "source": [
    "string_counts_dest = df[\"Destination\"].value_counts()\n",
    "\n",
    "max_string_dest = string_counts_dest.idxmax()"
   ]
  },
  {
   "cell_type": "markdown",
   "id": "fb506769",
   "metadata": {},
   "source": [
    "- **Filling NaN Values in Destination Column with max_string_dest Value**"
   ]
  },
  {
   "cell_type": "code",
   "execution_count": 107,
   "id": "5bf30b69",
   "metadata": {},
   "outputs": [],
   "source": [
    "df[\"Destination\"].fillna(max_string_dest, inplace=True)"
   ]
  },
  {
   "cell_type": "markdown",
   "id": "ba39ea0a",
   "metadata": {},
   "source": [
    "- **Verifying that NaN Values are Removed**"
   ]
  },
  {
   "cell_type": "code",
   "execution_count": 108,
   "id": "d0b7dfa3",
   "metadata": {},
   "outputs": [
    {
     "data": {
      "text/plain": [
       "0"
      ]
     },
     "execution_count": 108,
     "metadata": {},
     "output_type": "execute_result"
    }
   ],
   "source": [
    "df[\"Destination\"].isna().sum()"
   ]
  },
  {
   "cell_type": "markdown",
   "id": "a18479fc",
   "metadata": {},
   "source": [
    "<h3 style=\"color:black\" align=center>Cleaning HomePlanet Column</h3>"
   ]
  },
  {
   "cell_type": "markdown",
   "id": "fa3d7457",
   "metadata": {},
   "source": [
    "- **Counting Maximum Occuring Variable and storing it into max_string_home Variable**"
   ]
  },
  {
   "cell_type": "code",
   "execution_count": 109,
   "id": "756914cc",
   "metadata": {},
   "outputs": [],
   "source": [
    "string_counts_home = df[\"HomePlanet\"].value_counts()\n",
    "\n",
    "max_string_home = string_counts_home.idxmax()"
   ]
  },
  {
   "cell_type": "markdown",
   "id": "8bc64534",
   "metadata": {},
   "source": [
    "- **Filling NaN Values in HomePlanet Column with max_string_home Value**"
   ]
  },
  {
   "cell_type": "code",
   "execution_count": 110,
   "id": "0ed1dc15",
   "metadata": {},
   "outputs": [],
   "source": [
    "df[\"HomePlanet\"].fillna(max_string_home, inplace=True)"
   ]
  },
  {
   "cell_type": "markdown",
   "id": "9d3904fe",
   "metadata": {},
   "source": [
    "- **Verifying that NaN Values are Removed**"
   ]
  },
  {
   "cell_type": "code",
   "execution_count": 111,
   "id": "91e739d6",
   "metadata": {},
   "outputs": [
    {
     "data": {
      "text/plain": [
       "0"
      ]
     },
     "execution_count": 111,
     "metadata": {},
     "output_type": "execute_result"
    }
   ],
   "source": [
    "df[\"HomePlanet\"].isna().sum()"
   ]
  },
  {
   "cell_type": "markdown",
   "id": "9c867966",
   "metadata": {},
   "source": [
    "<h3 style=\"color:black\" align=center>Cleaning CryoSleep Column</h3>"
   ]
  },
  {
   "cell_type": "markdown",
   "id": "2322a4ee",
   "metadata": {},
   "source": [
    "- **Counting Maximum Occuring Variable and storing it into max_string_cryo Variable**"
   ]
  },
  {
   "cell_type": "code",
   "execution_count": 112,
   "id": "47325fb9",
   "metadata": {},
   "outputs": [],
   "source": [
    "string_counts_cryo = df[\"CryoSleep\"].value_counts()\n",
    "\n",
    "max_string_cryo = string_counts_cryo.idxmax()"
   ]
  },
  {
   "cell_type": "markdown",
   "id": "ccc26b7a",
   "metadata": {},
   "source": [
    "- **Filling NaN Values in CryoSleep Column with max_string_cryo Value**"
   ]
  },
  {
   "cell_type": "code",
   "execution_count": 113,
   "id": "947cd556",
   "metadata": {},
   "outputs": [],
   "source": [
    "df[\"CryoSleep\"].fillna(max_string_cryo, inplace=True)"
   ]
  },
  {
   "cell_type": "markdown",
   "id": "e642bff0",
   "metadata": {},
   "source": [
    "- **Verifying that NaN Values are Removed**"
   ]
  },
  {
   "cell_type": "code",
   "execution_count": 114,
   "id": "1ca86769",
   "metadata": {},
   "outputs": [
    {
     "data": {
      "text/plain": [
       "0"
      ]
     },
     "execution_count": 114,
     "metadata": {},
     "output_type": "execute_result"
    }
   ],
   "source": [
    "df[\"CryoSleep\"].isna().sum()"
   ]
  },
  {
   "cell_type": "markdown",
   "id": "03eddef3",
   "metadata": {},
   "source": [
    "- **Converting CryoSleep into int DataType**"
   ]
  },
  {
   "cell_type": "code",
   "execution_count": 115,
   "id": "3431b0fa",
   "metadata": {},
   "outputs": [],
   "source": [
    "df[\"CryoSleep\"] = df[\"CryoSleep\"].astype(int)"
   ]
  },
  {
   "cell_type": "markdown",
   "id": "1f437244",
   "metadata": {},
   "source": [
    "<h3 style=\"color:black\" align=center>Cleaning Transported Column</h3>"
   ]
  },
  {
   "cell_type": "markdown",
   "id": "14e7819a",
   "metadata": {},
   "source": [
    "- **Converting Transported Column into int DataType**"
   ]
  },
  {
   "cell_type": "code",
   "execution_count": 116,
   "id": "cb4e0fed",
   "metadata": {},
   "outputs": [],
   "source": [
    "df[\"Transported\"] = df[\"Transported\"].astype(int)"
   ]
  },
  {
   "cell_type": "markdown",
   "id": "774d63bc",
   "metadata": {},
   "source": [
    "<h3 style=\"color:black\" align=center>Cleaning RoomService, FoodCourt, ShoppingMall, Spa, VRDeck Column</h3>"
   ]
  },
  {
   "cell_type": "markdown",
   "id": "fa673a1d",
   "metadata": {},
   "source": [
    "- **Dropping Null Values from RoomService, FoodCourt, ShoppingMall, Spa, VRDeck Column**"
   ]
  },
  {
   "cell_type": "code",
   "execution_count": 117,
   "id": "3d18caa8",
   "metadata": {},
   "outputs": [],
   "source": [
    "df.dropna(inplace=True)"
   ]
  },
  {
   "cell_type": "markdown",
   "id": "1ddfc862",
   "metadata": {},
   "source": [
    "- **Verifying that NaN Values are Removed**"
   ]
  },
  {
   "cell_type": "code",
   "execution_count": 118,
   "id": "00dd4985",
   "metadata": {},
   "outputs": [
    {
     "data": {
      "text/plain": [
       "HomePlanet      0\n",
       "CryoSleep       0\n",
       "Destination     0\n",
       "Age             0\n",
       "VIP             0\n",
       "RoomService     0\n",
       "FoodCourt       0\n",
       "ShoppingMall    0\n",
       "Spa             0\n",
       "VRDeck          0\n",
       "Transported     0\n",
       "dtype: int64"
      ]
     },
     "execution_count": 118,
     "metadata": {},
     "output_type": "execute_result"
    }
   ],
   "source": [
    "df.isna().sum()"
   ]
  },
  {
   "cell_type": "markdown",
   "id": "6a2b8559",
   "metadata": {},
   "source": [
    "- **New Shape of the Dataset**"
   ]
  },
  {
   "cell_type": "code",
   "execution_count": 119,
   "id": "9e404258",
   "metadata": {},
   "outputs": [
    {
     "data": {
      "text/plain": [
       "(7785, 11)"
      ]
     },
     "execution_count": 119,
     "metadata": {},
     "output_type": "execute_result"
    }
   ],
   "source": [
    "df.shape"
   ]
  },
  {
   "cell_type": "markdown",
   "id": "61ff6b4b",
   "metadata": {},
   "source": [
    "<h1 style=\"color:blue\" align=center>Data Visualization</h1>"
   ]
  },
  {
   "cell_type": "markdown",
   "id": "1afd7b3f",
   "metadata": {},
   "source": [
    "- **Number of Passengers Transported vs Not Transpoprted to their Planets**"
   ]
  },
  {
   "cell_type": "code",
   "execution_count": 120,
   "id": "4c7540f6",
   "metadata": {},
   "outputs": [
    {
     "data": {
      "text/plain": [
       "<Axes: xlabel='Transported', ylabel='count'>"
      ]
     },
     "execution_count": 120,
     "metadata": {},
     "output_type": "execute_result"
    },
    {
     "data": {
      "image/png": "[encoded data removed]",
      "text/plain": [
       "<Figure size 640x480 with 1 Axes>"
      ]
     },
     "metadata": {},
     "output_type": "display_data"
    }
   ],
   "source": [
    "sns.set_style(\"whitegrid\")\n",
    "sns.countplot(x=\"Transported\",data=df)"
   ]
  },
  {
   "cell_type": "markdown",
   "id": "18cf8646",
   "metadata": {},
   "source": [
    "- **Number of Passengers with their respective HomePlanet**"
   ]
  },
  {
   "cell_type": "code",
   "execution_count": 121,
   "id": "a41e301c",
   "metadata": {},
   "outputs": [
    {
     "data": {
      "text/plain": [
       "<Axes: xlabel='HomePlanet', ylabel='count'>"
      ]
     },
     "execution_count": 121,
     "metadata": {},
     "output_type": "execute_result"
    },
    {
     "data": {
      "image/png": "[encoded data removed]",
      "text/plain": [
       "<Figure size 640x480 with 1 Axes>"
      ]
     },
     "metadata": {},
     "output_type": "display_data"
    }
   ],
   "source": [
    "sns.set_style(\"whitegrid\")\n",
    "sns.countplot(x=\"HomePlanet\",data=df)"
   ]
  },
  {
   "cell_type": "markdown",
   "id": "074feb3d",
   "metadata": {},
   "source": [
    "- **Number of Passengers opted for VIP Service**"
   ]
  },
  {
   "cell_type": "code",
   "execution_count": 122,
   "id": "d3e4d7d2",
   "metadata": {},
   "outputs": [
    {
     "data": {
      "text/plain": [
       "<Axes: xlabel='VIP', ylabel='count'>"
      ]
     },
     "execution_count": 122,
     "metadata": {},
     "output_type": "execute_result"
    },
    {
     "data": {
      "image/png": "[encoded data removed]",
      "text/plain": [
       "<Figure size 640x480 with 1 Axes>"
      ]
     },
     "metadata": {},
     "output_type": "display_data"
    }
   ],
   "source": [
    "sns.set_style(\"whitegrid\")\n",
    "sns.countplot(x=\"VIP\",data=df)"
   ]
  },
  {
   "cell_type": "markdown",
   "id": "967ce99f",
   "metadata": {},
   "source": [
    "- **Number of Passengers with their respective Destinations**"
   ]
  },
  {
   "cell_type": "code",
   "execution_count": 123,
   "id": "f961e355",
   "metadata": {},
   "outputs": [
    {
     "data": {
      "text/plain": [
       "<Axes: xlabel='Destination', ylabel='count'>"
      ]
     },
     "execution_count": 123,
     "metadata": {},
     "output_type": "execute_result"
    },
    {
     "data": {
      "image/png": "[encoded data removed]",
      "text/plain": [
       "<Figure size 640x480 with 1 Axes>"
      ]
     },
     "metadata": {},
     "output_type": "display_data"
    }
   ],
   "source": [
    "sns.set_style(\"whitegrid\")\n",
    "sns.countplot(x=\"Destination\",data=df)"
   ]
  },
  {
   "cell_type": "markdown",
   "id": "f92e1227",
   "metadata": {},
   "source": [
    "<h1 style=\"color:blue\" align=center>Dummy Variable</h1>"
   ]
  },
  {
   "cell_type": "markdown",
   "id": "8202dbb1",
   "metadata": {},
   "source": [
    "- **Creating Dummy Variable for HomePlanet Column**"
   ]
  },
  {
   "cell_type": "code",
   "execution_count": 124,
   "id": "9fb5da9c",
   "metadata": {},
   "outputs": [],
   "source": [
    "dummy_home = pd.get_dummies(df[\"HomePlanet\"],dtype=int)"
   ]
  },
  {
   "cell_type": "code",
   "execution_count": 125,
   "id": "b28bd8d5",
   "metadata": {},
   "outputs": [],
   "source": [
    "home_df = pd.DataFrame(dummy_home)"
   ]
  },
  {
   "cell_type": "code",
   "execution_count": 126,
   "id": "f0234880",
   "metadata": {},
   "outputs": [],
   "source": [
    "df2 = pd.concat([df,home_df],axis=\"columns\")"
   ]
  },
  {
   "cell_type": "markdown",
   "id": "d833102e",
   "metadata": {},
   "source": [
    "- **Creating Dummy Variable for Destination Column**"
   ]
  },
  {
   "cell_type": "code",
   "execution_count": 127,
   "id": "8c71720b",
   "metadata": {},
   "outputs": [],
   "source": [
    "dummy_dest = pd.get_dummies(df[\"Destination\"],dtype=int)"
   ]
  },
  {
   "cell_type": "code",
   "execution_count": 128,
   "id": "60857acd",
   "metadata": {},
   "outputs": [],
   "source": [
    "dest_df = pd.DataFrame(dummy_dest)"
   ]
  },
  {
   "cell_type": "code",
   "execution_count": 129,
   "id": "4611718e",
   "metadata": {},
   "outputs": [],
   "source": [
    "df3 = pd.concat([df2,dest_df],axis=\"columns\")"
   ]
  },
  {
   "cell_type": "markdown",
   "id": "6b9b8778",
   "metadata": {},
   "source": [
    "- **Dropping HomePlanet and Destination Column from DataFrame**"
   ]
  },
  {
   "cell_type": "code",
   "execution_count": 130,
   "id": "07460a16",
   "metadata": {},
   "outputs": [],
   "source": [
    "df3.drop([\"HomePlanet\",\"Destination\"],axis=\"columns\",inplace=True)"
   ]
  },
  {
   "cell_type": "markdown",
   "id": "c464fb07",
   "metadata": {},
   "source": [
    "<h1 style=\"color:blue\" align=center>Data Standardization</h1>"
   ]
  },
  {
   "cell_type": "markdown",
   "id": "0f8aea8b",
   "metadata": {},
   "source": [
    "- **Storing \"RoomService\",\"FoodCourt\",\"ShoppingMall\",\"Spa\",\"VRDeck\" Columns into subset_cols Variable**"
   ]
  },
  {
   "cell_type": "code",
   "execution_count": 131,
   "id": "d074fd79",
   "metadata": {},
   "outputs": [],
   "source": [
    "subset_cols = [\"RoomService\",\"FoodCourt\",\"ShoppingMall\",\"Spa\",\"VRDeck\"]\n",
    "subset_df = df[subset_cols]"
   ]
  },
  {
   "cell_type": "markdown",
   "id": "f97e40d8",
   "metadata": {},
   "source": [
    "- **Importing StandardScaler Library**"
   ]
  },
  {
   "cell_type": "code",
   "execution_count": 132,
   "id": "3f3212ea",
   "metadata": {},
   "outputs": [],
   "source": [
    "from sklearn.preprocessing import StandardScaler\n",
    "scaler = StandardScaler()"
   ]
  },
  {
   "cell_type": "markdown",
   "id": "8119af01",
   "metadata": {},
   "source": [
    "- **Fitting Data with StandardScaler**"
   ]
  },
  {
   "cell_type": "code",
   "execution_count": 133,
   "id": "2425e899",
   "metadata": {},
   "outputs": [
    {
     "data": {
      "text/html": [
       "<style>#sk-container-id-6 {color: black;background-color: white;}#sk-container-id-6 pre{padding: 0;}#sk-container-id-6 div.sk-toggleable {background-color: white;}#sk-container-id-6 label.sk-toggleable__label {cursor: pointer;display: block;width: 100%;margin-bottom: 0;padding: 0.3em;box-sizing: border-box;text-align: center;}#sk-container-id-6 label.sk-toggleable__label-arrow:before {content: \"▸\";float: left;margin-right: 0.25em;color: #696969;}#sk-container-id-6 label.sk-toggleable__label-arrow:hover:before {color: black;}#sk-container-id-6 div.sk-estimator:hover label.sk-toggleable__label-arrow:before {color: black;}#sk-container-id-6 div.sk-toggleable__content {max-height: 0;max-width: 0;overflow: hidden;text-align: left;background-color: #f0f8ff;}#sk-container-id-6 div.sk-toggleable__content pre {margin: 0.2em;color: black;border-radius: 0.25em;background-color: #f0f8ff;}#sk-container-id-6 input.sk-toggleable__control:checked~div.sk-toggleable__content {max-height: 200px;max-width: 100%;overflow: auto;}#sk-container-id-6 input.sk-toggleable__control:checked~label.sk-toggleable__label-arrow:before {content: \"▾\";}#sk-container-id-6 div.sk-estimator input.sk-toggleable__control:checked~label.sk-toggleable__label {background-color: #d4ebff;}#sk-container-id-6 div.sk-label input.sk-toggleable__control:checked~label.sk-toggleable__label {background-color: #d4ebff;}#sk-container-id-6 input.sk-hidden--visually {border: 0;clip: rect(1px 1px 1px 1px);clip: rect(1px, 1px, 1px, 1px);height: 1px;margin: -1px;overflow: hidden;padding: 0;position: absolute;width: 1px;}#sk-container-id-6 div.sk-estimator {font-family: monospace;background-color: #f0f8ff;border: 1px dotted black;border-radius: 0.25em;box-sizing: border-box;margin-bottom: 0.5em;}#sk-container-id-6 div.sk-estimator:hover {background-color: #d4ebff;}#sk-container-id-6 div.sk-parallel-item::after {content: \"\";width: 100%;border-bottom: 1px solid gray;flex-grow: 1;}#sk-container-id-6 div.sk-label:hover label.sk-toggleable__label {background-color: #d4ebff;}#sk-container-id-6 div.sk-serial::before {content: \"\";position: absolute;border-left: 1px solid gray;box-sizing: border-box;top: 0;bottom: 0;left: 50%;z-index: 0;}#sk-container-id-6 div.sk-serial {display: flex;flex-direction: column;align-items: center;background-color: white;padding-right: 0.2em;padding-left: 0.2em;position: relative;}#sk-container-id-6 div.sk-item {position: relative;z-index: 1;}#sk-container-id-6 div.sk-parallel {display: flex;align-items: stretch;justify-content: center;background-color: white;position: relative;}#sk-container-id-6 div.sk-item::before, #sk-container-id-6 div.sk-parallel-item::before {content: \"\";position: absolute;border-left: 1px solid gray;box-sizing: border-box;top: 0;bottom: 0;left: 50%;z-index: -1;}#sk-container-id-6 div.sk-parallel-item {display: flex;flex-direction: column;z-index: 1;position: relative;background-color: white;}#sk-container-id-6 div.sk-parallel-item:first-child::after {align-self: flex-end;width: 50%;}#sk-container-id-6 div.sk-parallel-item:last-child::after {align-self: flex-start;width: 50%;}#sk-container-id-6 div.sk-parallel-item:only-child::after {width: 0;}#sk-container-id-6 div.sk-dashed-wrapped {border: 1px dashed gray;margin: 0 0.4em 0.5em 0.4em;box-sizing: border-box;padding-bottom: 0.4em;background-color: white;}#sk-container-id-6 div.sk-label label {font-family: monospace;font-weight: bold;display: inline-block;line-height: 1.2em;}#sk-container-id-6 div.sk-label-container {text-align: center;}#sk-container-id-6 div.sk-container {/* jupyter's `normalize.less` sets `[hidden] { display: none; }` but bootstrap.min.css set `[hidden] { display: none !important; }` so we also need the `!important` here to be able to override the default hidden behavior on the sphinx rendered scikit-learn.org. See: https://github.com/scikit-learn/scikit-learn/issues/21755 */display: inline-block !important;position: relative;}#sk-container-id-6 div.sk-text-repr-fallback {display: none;}</style><div id=\"sk-container-id-6\" class=\"sk-top-container\"><div class=\"sk-text-repr-fallback\"><pre>StandardScaler()</pre><b>In a Jupyter environment, please rerun this cell to show the HTML representation or trust the notebook. <br />On GitHub, the HTML representation is unable to render, please try loading this page with nbviewer.org.</b></div><div class=\"sk-container\" hidden><div class=\"sk-item\"><div class=\"sk-estimator sk-toggleable\"><input class=\"sk-toggleable__control sk-hidden--visually\" id=\"sk-estimator-id-6\" type=\"checkbox\" checked><label for=\"sk-estimator-id-6\" class=\"sk-toggleable__label sk-toggleable__label-arrow\">StandardScaler</label><div class=\"sk-toggleable__content\"><pre>StandardScaler()</pre></div></div></div></div></div>"
      ],
      "text/plain": [
       "StandardScaler()"
      ]
     },
     "execution_count": 133,
     "metadata": {},
     "output_type": "execute_result"
    }
   ],
   "source": [
    "scaler.fit(subset_df)"
   ]
  },
  {
   "cell_type": "markdown",
   "id": "3fafefef",
   "metadata": {},
   "source": [
    "- **Transforming Data after fitting with StandardScaler**"
   ]
  },
  {
   "cell_type": "code",
   "execution_count": 134,
   "id": "398568fd",
   "metadata": {},
   "outputs": [],
   "source": [
    "scaled_values = scaler.transform(subset_df)"
   ]
  },
  {
   "cell_type": "code",
   "execution_count": 135,
   "id": "395ed74e",
   "metadata": {},
   "outputs": [],
   "source": [
    "df[subset_cols] = scaled_values"
   ]
  },
  {
   "cell_type": "markdown",
   "id": "4a0192a0",
   "metadata": {},
   "source": [
    "- **Dropping RoomService, FoodCourt, ShoppingMall, Spa, VRDeck Columns from DataFrame**"
   ]
  },
  {
   "cell_type": "code",
   "execution_count": 136,
   "id": "6453e7e9",
   "metadata": {},
   "outputs": [],
   "source": [
    "df3.drop([\"RoomService\",\"FoodCourt\",\"ShoppingMall\",\"Spa\",\"VRDeck\"],axis=\"columns\",inplace=True)"
   ]
  },
  {
   "cell_type": "markdown",
   "id": "c48d15e9",
   "metadata": {},
   "source": [
    "- **Concatenating Scaled DataFrame and Orignal DataFrame**"
   ]
  },
  {
   "cell_type": "code",
   "execution_count": 137,
   "id": "2f97472e",
   "metadata": {},
   "outputs": [],
   "source": [
    "df4 = pd.concat([df3, df[subset_cols]],axis=\"columns\")"
   ]
  },
  {
   "cell_type": "markdown",
   "id": "ea85115c",
   "metadata": {},
   "source": [
    "- **Final DataFrame**"
   ]
  },
  {
   "cell_type": "code",
   "execution_count": 138,
   "id": "8ddf910f",
   "metadata": {},
   "outputs": [
    {
     "data": {
      "text/html": [
       "<div>\n",
       "<style scoped>\n",
       "    .dataframe tbody tr th:only-of-type {\n",
       "        vertical-align: middle;\n",
       "    }\n",
       "\n",
       "    .dataframe tbody tr th {\n",
       "        vertical-align: top;\n",
       "    }\n",
       "\n",
       "    .dataframe thead th {\n",
       "        text-align: right;\n",
       "    }\n",
       "</style>\n",
       "<table border=\"1\" class=\"dataframe\">\n",
       "  <thead>\n",
       "    <tr style=\"text-align: right;\">\n",
       "      <th></th>\n",
       "      <th>CryoSleep</th>\n",
       "      <th>Age</th>\n",
       "      <th>VIP</th>\n",
       "      <th>Transported</th>\n",
       "      <th>Earth</th>\n",
       "      <th>Europa</th>\n",
       "      <th>Mars</th>\n",
       "      <th>55 Cancri e</th>\n",
       "      <th>PSO J318.5-22</th>\n",
       "      <th>TRAPPIST-1e</th>\n",
       "      <th>RoomService</th>\n",
       "      <th>FoodCourt</th>\n",
       "      <th>ShoppingMall</th>\n",
       "      <th>Spa</th>\n",
       "      <th>VRDeck</th>\n",
       "    </tr>\n",
       "  </thead>\n",
       "  <tbody>\n",
       "    <tr>\n",
       "      <th>0</th>\n",
       "      <td>0</td>\n",
       "      <td>39.0</td>\n",
       "      <td>0</td>\n",
       "      <td>0</td>\n",
       "      <td>0</td>\n",
       "      <td>1</td>\n",
       "      <td>0</td>\n",
       "      <td>0</td>\n",
       "      <td>0</td>\n",
       "      <td>1</td>\n",
       "      <td>-0.335593</td>\n",
       "      <td>-0.286910</td>\n",
       "      <td>-0.284567</td>\n",
       "      <td>-0.273842</td>\n",
       "      <td>-0.270123</td>\n",
       "    </tr>\n",
       "    <tr>\n",
       "      <th>1</th>\n",
       "      <td>0</td>\n",
       "      <td>24.0</td>\n",
       "      <td>0</td>\n",
       "      <td>1</td>\n",
       "      <td>1</td>\n",
       "      <td>0</td>\n",
       "      <td>0</td>\n",
       "      <td>0</td>\n",
       "      <td>0</td>\n",
       "      <td>1</td>\n",
       "      <td>-0.173528</td>\n",
       "      <td>-0.281415</td>\n",
       "      <td>-0.243437</td>\n",
       "      <td>0.199897</td>\n",
       "      <td>-0.230328</td>\n",
       "    </tr>\n",
       "    <tr>\n",
       "      <th>2</th>\n",
       "      <td>0</td>\n",
       "      <td>58.0</td>\n",
       "      <td>1</td>\n",
       "      <td>0</td>\n",
       "      <td>0</td>\n",
       "      <td>1</td>\n",
       "      <td>0</td>\n",
       "      <td>0</td>\n",
       "      <td>0</td>\n",
       "      <td>1</td>\n",
       "      <td>-0.271659</td>\n",
       "      <td>1.896465</td>\n",
       "      <td>-0.284567</td>\n",
       "      <td>5.520618</td>\n",
       "      <td>-0.225806</td>\n",
       "    </tr>\n",
       "    <tr>\n",
       "      <th>3</th>\n",
       "      <td>0</td>\n",
       "      <td>33.0</td>\n",
       "      <td>0</td>\n",
       "      <td>0</td>\n",
       "      <td>0</td>\n",
       "      <td>1</td>\n",
       "      <td>0</td>\n",
       "      <td>0</td>\n",
       "      <td>0</td>\n",
       "      <td>1</td>\n",
       "      <td>-0.335593</td>\n",
       "      <td>0.496443</td>\n",
       "      <td>0.325805</td>\n",
       "      <td>2.598795</td>\n",
       "      <td>-0.095568</td>\n",
       "    </tr>\n",
       "    <tr>\n",
       "      <th>4</th>\n",
       "      <td>0</td>\n",
       "      <td>16.0</td>\n",
       "      <td>0</td>\n",
       "      <td>1</td>\n",
       "      <td>1</td>\n",
       "      <td>0</td>\n",
       "      <td>0</td>\n",
       "      <td>0</td>\n",
       "      <td>0</td>\n",
       "      <td>1</td>\n",
       "      <td>0.114916</td>\n",
       "      <td>-0.244171</td>\n",
       "      <td>-0.036141</td>\n",
       "      <td>0.213704</td>\n",
       "      <td>-0.268314</td>\n",
       "    </tr>\n",
       "  </tbody>\n",
       "</table>\n",
       "</div>"
      ],
      "text/plain": [
       "   CryoSleep   Age  VIP  Transported  Earth  Europa  Mars  55 Cancri e   \n",
       "0          0  39.0    0            0      0       1     0            0  \\\n",
       "1          0  24.0    0            1      1       0     0            0   \n",
       "2          0  58.0    1            0      0       1     0            0   \n",
       "3          0  33.0    0            0      0       1     0            0   \n",
       "4          0  16.0    0            1      1       0     0            0   \n",
       "\n",
       "   PSO J318.5-22  TRAPPIST-1e  RoomService  FoodCourt  ShoppingMall       Spa   \n",
       "0              0            1    -0.335593  -0.286910     -0.284567 -0.273842  \\\n",
       "1              0            1    -0.173528  -0.281415     -0.243437  0.199897   \n",
       "2              0            1    -0.271659   1.896465     -0.284567  5.520618   \n",
       "3              0            1    -0.335593   0.496443      0.325805  2.598795   \n",
       "4              0            1     0.114916  -0.244171     -0.036141  0.213704   \n",
       "\n",
       "     VRDeck  \n",
       "0 -0.270123  \n",
       "1 -0.230328  \n",
       "2 -0.225806  \n",
       "3 -0.095568  \n",
       "4 -0.268314  "
      ]
     },
     "execution_count": 138,
     "metadata": {},
     "output_type": "execute_result"
    }
   ],
   "source": [
    "df4.head()"
   ]
  },
  {
   "cell_type": "markdown",
   "id": "b9984c79",
   "metadata": {},
   "source": [
    "<h1 style=\"color:blue\" align=center>Balancing the Dataset</h1>"
   ]
  },
  {
   "cell_type": "markdown",
   "id": "a6bcb7bc",
   "metadata": {},
   "source": [
    "- **Imbalance Data in VIP Column**"
   ]
  },
  {
   "cell_type": "code",
   "execution_count": 139,
   "id": "11ac6717",
   "metadata": {},
   "outputs": [
    {
     "data": {
      "text/plain": [
       "<Axes: xlabel='VIP', ylabel='count'>"
      ]
     },
     "execution_count": 139,
     "metadata": {},
     "output_type": "execute_result"
    },
    {
     "data": {
      "image/png": "[encoded data removed]",
      "text/plain": [
       "<Figure size 640x480 with 1 Axes>"
      ]
     },
     "metadata": {},
     "output_type": "display_data"
    }
   ],
   "source": [
    "sns.countplot(x=\"VIP\",data=df4)"
   ]
  },
  {
   "cell_type": "markdown",
   "id": "e0652ae6",
   "metadata": {},
   "source": [
    "- **Separating DataFrame based on VIP Column**"
   ]
  },
  {
   "cell_type": "code",
   "execution_count": 140,
   "id": "3c3e97c7",
   "metadata": {},
   "outputs": [],
   "source": [
    "df_is_vip = df4[df4[\"VIP\"]==1]\n",
    "df_not_vip = df4[df4[\"VIP\"]==0]"
   ]
  },
  {
   "cell_type": "markdown",
   "id": "4ff9b59f",
   "metadata": {},
   "source": [
    "- **Importing Resample Library**"
   ]
  },
  {
   "cell_type": "code",
   "execution_count": 141,
   "id": "2c98d459",
   "metadata": {},
   "outputs": [],
   "source": [
    "from sklearn.utils import resample"
   ]
  },
  {
   "cell_type": "markdown",
   "id": "6ba4bbd6",
   "metadata": {},
   "source": [
    "- **Upsampling df_is_vip based on df_not_vip from our DataFrame**"
   ]
  },
  {
   "cell_type": "code",
   "execution_count": 142,
   "id": "717d2e0e",
   "metadata": {},
   "outputs": [],
   "source": [
    "df_is_vip_upsample = resample(df_is_vip, n_samples=len(df_not_vip), random_state=1234)"
   ]
  },
  {
   "cell_type": "markdown",
   "id": "071d4c03",
   "metadata": {},
   "source": [
    "- **Concatenating df_is_vip_upsample and df_not_vip and storing it into df5**"
   ]
  },
  {
   "cell_type": "code",
   "execution_count": 143,
   "id": "2b828ffe",
   "metadata": {},
   "outputs": [],
   "source": [
    "df5 = pd.concat([df_not_vip,df_is_vip_upsample])"
   ]
  },
  {
   "cell_type": "markdown",
   "id": "ca1c44a2",
   "metadata": {},
   "source": [
    "- **Data in VIP Column is balanced**"
   ]
  },
  {
   "cell_type": "code",
   "execution_count": 144,
   "id": "ee94e57b",
   "metadata": {},
   "outputs": [
    {
     "data": {
      "text/plain": [
       "VIP\n",
       "0    7606\n",
       "1    7606\n",
       "Name: count, dtype: int64"
      ]
     },
     "execution_count": 144,
     "metadata": {},
     "output_type": "execute_result"
    }
   ],
   "source": [
    "df5[\"VIP\"].value_counts()"
   ]
  },
  {
   "cell_type": "markdown",
   "id": "a622dd40",
   "metadata": {},
   "source": [
    "- **Data in VIP Column is balanced**"
   ]
  },
  {
   "cell_type": "code",
   "execution_count": 145,
   "id": "38d6652f",
   "metadata": {},
   "outputs": [
    {
     "data": {
      "text/plain": [
       "<Axes: xlabel='VIP', ylabel='count'>"
      ]
     },
     "execution_count": 145,
     "metadata": {},
     "output_type": "execute_result"
    },
    {
     "data": {
      "image/png": "[encoded data removed]",
      "text/plain": [
       "<Figure size 640x480 with 1 Axes>"
      ]
     },
     "metadata": {},
     "output_type": "display_data"
    }
   ],
   "source": [
    "sns.countplot(x=\"VIP\",data=df5)"
   ]
  },
  {
   "cell_type": "markdown",
   "id": "c10817f2",
   "metadata": {},
   "source": [
    "<h1 style=\"color:blue\" align=center>Model Creation</h1>"
   ]
  },
  {
   "cell_type": "markdown",
   "id": "f818c38e",
   "metadata": {},
   "source": [
    "- **Defining Dependent and Independent Variable**"
   ]
  },
  {
   "cell_type": "code",
   "execution_count": 146,
   "id": "9465c436",
   "metadata": {},
   "outputs": [],
   "source": [
    "X = df5.drop(\"Transported\",axis=\"columns\")\n",
    "y = df5[\"Transported\"]"
   ]
  },
  {
   "cell_type": "markdown",
   "id": "20b5d701",
   "metadata": {},
   "source": [
    "- **Importing Train Test Split**"
   ]
  },
  {
   "cell_type": "code",
   "execution_count": 147,
   "id": "aee0678f",
   "metadata": {},
   "outputs": [],
   "source": [
    "from sklearn.model_selection import train_test_split"
   ]
  },
  {
   "cell_type": "markdown",
   "id": "0b0dd113",
   "metadata": {},
   "source": [
    "- **Dividing Data into X_train, X_test, y_train, y_test**"
   ]
  },
  {
   "cell_type": "code",
   "execution_count": 148,
   "id": "45d2d8d7",
   "metadata": {},
   "outputs": [],
   "source": [
    "X_train, X_test, y_train, y_test = train_test_split(X, y, test_size=0.33, random_state=42)"
   ]
  },
  {
   "cell_type": "markdown",
   "id": "df8262d7",
   "metadata": {},
   "source": [
    "<h1 style=\"color:blue\" align=center>Support Vector Machine</h1>"
   ]
  },
  {
   "cell_type": "markdown",
   "id": "eda9cbcc",
   "metadata": {},
   "source": [
    "- **Importing SVM Model**"
   ]
  },
  {
   "cell_type": "code",
   "execution_count": 149,
   "id": "9766aef6",
   "metadata": {},
   "outputs": [],
   "source": [
    "from sklearn.svm import SVC"
   ]
  },
  {
   "cell_type": "code",
   "execution_count": 150,
   "id": "47c46fc1",
   "metadata": {},
   "outputs": [],
   "source": [
    "svm = SVC()"
   ]
  },
  {
   "cell_type": "markdown",
   "id": "5898fcaa",
   "metadata": {},
   "source": [
    "- **Fitting Data with Model**"
   ]
  },
  {
   "cell_type": "code",
   "execution_count": 151,
   "id": "12eef501",
   "metadata": {},
   "outputs": [
    {
     "data": {
      "text/html": [
       "<style>#sk-container-id-7 {color: black;background-color: white;}#sk-container-id-7 pre{padding: 0;}#sk-container-id-7 div.sk-toggleable {background-color: white;}#sk-container-id-7 label.sk-toggleable__label {cursor: pointer;display: block;width: 100%;margin-bottom: 0;padding: 0.3em;box-sizing: border-box;text-align: center;}#sk-container-id-7 label.sk-toggleable__label-arrow:before {content: \"▸\";float: left;margin-right: 0.25em;color: #696969;}#sk-container-id-7 label.sk-toggleable__label-arrow:hover:before {color: black;}#sk-container-id-7 div.sk-estimator:hover label.sk-toggleable__label-arrow:before {color: black;}#sk-container-id-7 div.sk-toggleable__content {max-height: 0;max-width: 0;overflow: hidden;text-align: left;background-color: #f0f8ff;}#sk-container-id-7 div.sk-toggleable__content pre {margin: 0.2em;color: black;border-radius: 0.25em;background-color: #f0f8ff;}#sk-container-id-7 input.sk-toggleable__control:checked~div.sk-toggleable__content {max-height: 200px;max-width: 100%;overflow: auto;}#sk-container-id-7 input.sk-toggleable__control:checked~label.sk-toggleable__label-arrow:before {content: \"▾\";}#sk-container-id-7 div.sk-estimator input.sk-toggleable__control:checked~label.sk-toggleable__label {background-color: #d4ebff;}#sk-container-id-7 div.sk-label input.sk-toggleable__control:checked~label.sk-toggleable__label {background-color: #d4ebff;}#sk-container-id-7 input.sk-hidden--visually {border: 0;clip: rect(1px 1px 1px 1px);clip: rect(1px, 1px, 1px, 1px);height: 1px;margin: -1px;overflow: hidden;padding: 0;position: absolute;width: 1px;}#sk-container-id-7 div.sk-estimator {font-family: monospace;background-color: #f0f8ff;border: 1px dotted black;border-radius: 0.25em;box-sizing: border-box;margin-bottom: 0.5em;}#sk-container-id-7 div.sk-estimator:hover {background-color: #d4ebff;}#sk-container-id-7 div.sk-parallel-item::after {content: \"\";width: 100%;border-bottom: 1px solid gray;flex-grow: 1;}#sk-container-id-7 div.sk-label:hover label.sk-toggleable__label {background-color: #d4ebff;}#sk-container-id-7 div.sk-serial::before {content: \"\";position: absolute;border-left: 1px solid gray;box-sizing: border-box;top: 0;bottom: 0;left: 50%;z-index: 0;}#sk-container-id-7 div.sk-serial {display: flex;flex-direction: column;align-items: center;background-color: white;padding-right: 0.2em;padding-left: 0.2em;position: relative;}#sk-container-id-7 div.sk-item {position: relative;z-index: 1;}#sk-container-id-7 div.sk-parallel {display: flex;align-items: stretch;justify-content: center;background-color: white;position: relative;}#sk-container-id-7 div.sk-item::before, #sk-container-id-7 div.sk-parallel-item::before {content: \"\";position: absolute;border-left: 1px solid gray;box-sizing: border-box;top: 0;bottom: 0;left: 50%;z-index: -1;}#sk-container-id-7 div.sk-parallel-item {display: flex;flex-direction: column;z-index: 1;position: relative;background-color: white;}#sk-container-id-7 div.sk-parallel-item:first-child::after {align-self: flex-end;width: 50%;}#sk-container-id-7 div.sk-parallel-item:last-child::after {align-self: flex-start;width: 50%;}#sk-container-id-7 div.sk-parallel-item:only-child::after {width: 0;}#sk-container-id-7 div.sk-dashed-wrapped {border: 1px dashed gray;margin: 0 0.4em 0.5em 0.4em;box-sizing: border-box;padding-bottom: 0.4em;background-color: white;}#sk-container-id-7 div.sk-label label {font-family: monospace;font-weight: bold;display: inline-block;line-height: 1.2em;}#sk-container-id-7 div.sk-label-container {text-align: center;}#sk-container-id-7 div.sk-container {/* jupyter's `normalize.less` sets `[hidden] { display: none; }` but bootstrap.min.css set `[hidden] { display: none !important; }` so we also need the `!important` here to be able to override the default hidden behavior on the sphinx rendered scikit-learn.org. See: https://github.com/scikit-learn/scikit-learn/issues/21755 */display: inline-block !important;position: relative;}#sk-container-id-7 div.sk-text-repr-fallback {display: none;}</style><div id=\"sk-container-id-7\" class=\"sk-top-container\"><div class=\"sk-text-repr-fallback\"><pre>SVC()</pre><b>In a Jupyter environment, please rerun this cell to show the HTML representation or trust the notebook. <br />On GitHub, the HTML representation is unable to render, please try loading this page with nbviewer.org.</b></div><div class=\"sk-container\" hidden><div class=\"sk-item\"><div class=\"sk-estimator sk-toggleable\"><input class=\"sk-toggleable__control sk-hidden--visually\" id=\"sk-estimator-id-7\" type=\"checkbox\" checked><label for=\"sk-estimator-id-7\" class=\"sk-toggleable__label sk-toggleable__label-arrow\">SVC</label><div class=\"sk-toggleable__content\"><pre>SVC()</pre></div></div></div></div></div>"
      ],
      "text/plain": [
       "SVC()"
      ]
     },
     "execution_count": 151,
     "metadata": {},
     "output_type": "execute_result"
    }
   ],
   "source": [
    "svm.fit(X_train, y_train)"
   ]
  },
  {
   "cell_type": "markdown",
   "id": "48a1f466",
   "metadata": {},
   "source": [
    "- **Score of the Model**"
   ]
  },
  {
   "cell_type": "code",
   "execution_count": 152,
   "id": "f74dfe81",
   "metadata": {},
   "outputs": [
    {
     "data": {
      "text/plain": [
       "0.8301609105180534"
      ]
     },
     "execution_count": 152,
     "metadata": {},
     "output_type": "execute_result"
    }
   ],
   "source": [
    "svm.score(X_train, y_train)"
   ]
  },
  {
   "cell_type": "markdown",
   "id": "1e6961ca",
   "metadata": {},
   "source": [
    "- **Predicting Values from our Trained Model**"
   ]
  },
  {
   "cell_type": "code",
   "execution_count": 173,
   "id": "7748b75b",
   "metadata": {},
   "outputs": [
    {
     "data": {
      "text/plain": [
       "array([0, 0, 1, ..., 0, 0, 1])"
      ]
     },
     "execution_count": 173,
     "metadata": {},
     "output_type": "execute_result"
    }
   ],
   "source": [
    "svm.predict(X_test)"
   ]
  },
  {
   "cell_type": "markdown",
   "id": "84b02e7a",
   "metadata": {},
   "source": [
    "<h1 style=\"color:blue\" align=center>Random Forest</h1>"
   ]
  },
  {
   "cell_type": "markdown",
   "id": "22e43fb3",
   "metadata": {},
   "source": [
    "- **Importing Random Forest Classifier**"
   ]
  },
  {
   "cell_type": "code",
   "execution_count": 153,
   "id": "e436672c",
   "metadata": {},
   "outputs": [],
   "source": [
    "from sklearn.ensemble import RandomForestClassifier"
   ]
  },
  {
   "cell_type": "code",
   "execution_count": 154,
   "id": "96795f09",
   "metadata": {},
   "outputs": [],
   "source": [
    "rf = RandomForestClassifier()"
   ]
  },
  {
   "cell_type": "markdown",
   "id": "935a5d65",
   "metadata": {},
   "source": [
    "- **Fitting Data with Model**"
   ]
  },
  {
   "cell_type": "code",
   "execution_count": 155,
   "id": "e9d09b1a",
   "metadata": {},
   "outputs": [
    {
     "data": {
      "text/html": [
       "<style>#sk-container-id-8 {color: black;background-color: white;}#sk-container-id-8 pre{padding: 0;}#sk-container-id-8 div.sk-toggleable {background-color: white;}#sk-container-id-8 label.sk-toggleable__label {cursor: pointer;display: block;width: 100%;margin-bottom: 0;padding: 0.3em;box-sizing: border-box;text-align: center;}#sk-container-id-8 label.sk-toggleable__label-arrow:before {content: \"▸\";float: left;margin-right: 0.25em;color: #696969;}#sk-container-id-8 label.sk-toggleable__label-arrow:hover:before {color: black;}#sk-container-id-8 div.sk-estimator:hover label.sk-toggleable__label-arrow:before {color: black;}#sk-container-id-8 div.sk-toggleable__content {max-height: 0;max-width: 0;overflow: hidden;text-align: left;background-color: #f0f8ff;}#sk-container-id-8 div.sk-toggleable__content pre {margin: 0.2em;color: black;border-radius: 0.25em;background-color: #f0f8ff;}#sk-container-id-8 input.sk-toggleable__control:checked~div.sk-toggleable__content {max-height: 200px;max-width: 100%;overflow: auto;}#sk-container-id-8 input.sk-toggleable__control:checked~label.sk-toggleable__label-arrow:before {content: \"▾\";}#sk-container-id-8 div.sk-estimator input.sk-toggleable__control:checked~label.sk-toggleable__label {background-color: #d4ebff;}#sk-container-id-8 div.sk-label input.sk-toggleable__control:checked~label.sk-toggleable__label {background-color: #d4ebff;}#sk-container-id-8 input.sk-hidden--visually {border: 0;clip: rect(1px 1px 1px 1px);clip: rect(1px, 1px, 1px, 1px);height: 1px;margin: -1px;overflow: hidden;padding: 0;position: absolute;width: 1px;}#sk-container-id-8 div.sk-estimator {font-family: monospace;background-color: #f0f8ff;border: 1px dotted black;border-radius: 0.25em;box-sizing: border-box;margin-bottom: 0.5em;}#sk-container-id-8 div.sk-estimator:hover {background-color: #d4ebff;}#sk-container-id-8 div.sk-parallel-item::after {content: \"\";width: 100%;border-bottom: 1px solid gray;flex-grow: 1;}#sk-container-id-8 div.sk-label:hover label.sk-toggleable__label {background-color: #d4ebff;}#sk-container-id-8 div.sk-serial::before {content: \"\";position: absolute;border-left: 1px solid gray;box-sizing: border-box;top: 0;bottom: 0;left: 50%;z-index: 0;}#sk-container-id-8 div.sk-serial {display: flex;flex-direction: column;align-items: center;background-color: white;padding-right: 0.2em;padding-left: 0.2em;position: relative;}#sk-container-id-8 div.sk-item {position: relative;z-index: 1;}#sk-container-id-8 div.sk-parallel {display: flex;align-items: stretch;justify-content: center;background-color: white;position: relative;}#sk-container-id-8 div.sk-item::before, #sk-container-id-8 div.sk-parallel-item::before {content: \"\";position: absolute;border-left: 1px solid gray;box-sizing: border-box;top: 0;bottom: 0;left: 50%;z-index: -1;}#sk-container-id-8 div.sk-parallel-item {display: flex;flex-direction: column;z-index: 1;position: relative;background-color: white;}#sk-container-id-8 div.sk-parallel-item:first-child::after {align-self: flex-end;width: 50%;}#sk-container-id-8 div.sk-parallel-item:last-child::after {align-self: flex-start;width: 50%;}#sk-container-id-8 div.sk-parallel-item:only-child::after {width: 0;}#sk-container-id-8 div.sk-dashed-wrapped {border: 1px dashed gray;margin: 0 0.4em 0.5em 0.4em;box-sizing: border-box;padding-bottom: 0.4em;background-color: white;}#sk-container-id-8 div.sk-label label {font-family: monospace;font-weight: bold;display: inline-block;line-height: 1.2em;}#sk-container-id-8 div.sk-label-container {text-align: center;}#sk-container-id-8 div.sk-container {/* jupyter's `normalize.less` sets `[hidden] { display: none; }` but bootstrap.min.css set `[hidden] { display: none !important; }` so we also need the `!important` here to be able to override the default hidden behavior on the sphinx rendered scikit-learn.org. See: https://github.com/scikit-learn/scikit-learn/issues/21755 */display: inline-block !important;position: relative;}#sk-container-id-8 div.sk-text-repr-fallback {display: none;}</style><div id=\"sk-container-id-8\" class=\"sk-top-container\"><div class=\"sk-text-repr-fallback\"><pre>RandomForestClassifier()</pre><b>In a Jupyter environment, please rerun this cell to show the HTML representation or trust the notebook. <br />On GitHub, the HTML representation is unable to render, please try loading this page with nbviewer.org.</b></div><div class=\"sk-container\" hidden><div class=\"sk-item\"><div class=\"sk-estimator sk-toggleable\"><input class=\"sk-toggleable__control sk-hidden--visually\" id=\"sk-estimator-id-8\" type=\"checkbox\" checked><label for=\"sk-estimator-id-8\" class=\"sk-toggleable__label sk-toggleable__label-arrow\">RandomForestClassifier</label><div class=\"sk-toggleable__content\"><pre>RandomForestClassifier()</pre></div></div></div></div></div>"
      ],
      "text/plain": [
       "RandomForestClassifier()"
      ]
     },
     "execution_count": 155,
     "metadata": {},
     "output_type": "execute_result"
    }
   ],
   "source": [
    "rf.fit(X_train, y_train)"
   ]
  },
  {
   "cell_type": "markdown",
   "id": "a6340a17",
   "metadata": {},
   "source": [
    "- **Score of the Model**"
   ]
  },
  {
   "cell_type": "code",
   "execution_count": 156,
   "id": "3b0de4cd",
   "metadata": {},
   "outputs": [
    {
     "data": {
      "text/plain": [
       "0.8894422310756972"
      ]
     },
     "execution_count": 156,
     "metadata": {},
     "output_type": "execute_result"
    }
   ],
   "source": [
    "rf.score(X_test, y_test)"
   ]
  },
  {
   "cell_type": "markdown",
   "id": "43cc5bdd",
   "metadata": {},
   "source": [
    "- **Predicting Values from our Trained Model**"
   ]
  },
  {
   "cell_type": "code",
   "execution_count": 171,
   "id": "07312c40",
   "metadata": {},
   "outputs": [
    {
     "data": {
      "text/plain": [
       "array([0, 0, 1, ..., 0, 0, 1])"
      ]
     },
     "execution_count": 171,
     "metadata": {},
     "output_type": "execute_result"
    }
   ],
   "source": [
    "rf.predict(X_test)"
   ]
  },
  {
   "cell_type": "markdown",
   "id": "400042be",
   "metadata": {},
   "source": [
    "<h1 style=\"color:blue\" align=center>Cross Validation</h1>"
   ]
  },
  {
   "cell_type": "markdown",
   "id": "be239079",
   "metadata": {},
   "source": [
    "- **Importing K-Fold Cross Validation**"
   ]
  },
  {
   "cell_type": "code",
   "execution_count": 157,
   "id": "809d6cb2",
   "metadata": {},
   "outputs": [],
   "source": [
    "from sklearn.model_selection import KFold"
   ]
  },
  {
   "cell_type": "markdown",
   "id": "b840e264",
   "metadata": {},
   "source": [
    "- **Dividing Data based on n_splits**"
   ]
  },
  {
   "cell_type": "code",
   "execution_count": 158,
   "id": "8eda251b",
   "metadata": {},
   "outputs": [
    {
     "data": {
      "text/plain": [
       "KFold(n_splits=5, random_state=None, shuffle=False)"
      ]
     },
     "execution_count": 158,
     "metadata": {},
     "output_type": "execute_result"
    }
   ],
   "source": [
    "kf = KFold(n_splits=5)\n",
    "kf"
   ]
  },
  {
   "cell_type": "markdown",
   "id": "af014d7c",
   "metadata": {},
   "source": [
    "- **Importing Cross Val Score**"
   ]
  },
  {
   "cell_type": "code",
   "execution_count": 159,
   "id": "31a592c2",
   "metadata": {},
   "outputs": [],
   "source": [
    "from sklearn.model_selection import cross_val_score"
   ]
  },
  {
   "cell_type": "markdown",
   "id": "c526a858",
   "metadata": {},
   "source": [
    "- **Cross Val Score of Support Vector Machine**"
   ]
  },
  {
   "cell_type": "code",
   "execution_count": 160,
   "id": "5ca47108",
   "metadata": {},
   "outputs": [
    {
     "data": {
      "text/plain": [
       "0.8180443232795416"
      ]
     },
     "execution_count": 160,
     "metadata": {},
     "output_type": "execute_result"
    }
   ],
   "source": [
    "cross_val_score(SVC(),X,y).mean()"
   ]
  },
  {
   "cell_type": "markdown",
   "id": "8e52edaa",
   "metadata": {},
   "source": [
    "- **Cross Val Score of Random Forest Classifier**"
   ]
  },
  {
   "cell_type": "code",
   "execution_count": 161,
   "id": "f39ee4a0",
   "metadata": {},
   "outputs": [
    {
     "data": {
      "text/plain": [
       "0.8861571042970977"
      ]
     },
     "execution_count": 161,
     "metadata": {},
     "output_type": "execute_result"
    }
   ],
   "source": [
    "cross_val_score(RandomForestClassifier(),X,y).mean()"
   ]
  }
 ],
 "metadata": {
  "kernelspec": {
   "display_name": "Python 3 (ipykernel)",
   "language": "python",
   "name": "python3"
  },
  "language_info": {
   "codemirror_mode": {
    "name": "ipython",
    "version": 3
   },
   "file_extension": ".py",
   "mimetype": "text/x-python",
   "name": "python",
   "nbconvert_exporter": "python",
   "pygments_lexer": "ipython3",
   "version": "3.11.3"
  }
 },
 "nbformat": 4,
 "nbformat_minor": 5
}
